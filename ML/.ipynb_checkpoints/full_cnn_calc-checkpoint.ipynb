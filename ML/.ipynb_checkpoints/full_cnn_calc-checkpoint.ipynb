{
 "cells": [
  {
   "cell_type": "code",
   "execution_count": 1,
   "metadata": {},
   "outputs": [
    {
     "name": "stderr",
     "output_type": "stream",
     "text": [
      "Using TensorFlow backend.\n"
     ]
    }
   ],
   "source": [
    "import numpy as np\n",
    "import h5py\n",
    "import tensorflow\n",
    "import keras\n",
    "from keras.models import Sequential, load_model\n",
    "from keras.layers import Conv2D, Flatten, Dense\n",
    "from keras.datasets import mnist\n",
    "from keras.utils import to_categorical"
   ]
  },
  {
   "cell_type": "code",
   "execution_count": 2,
   "metadata": {},
   "outputs": [],
   "source": [
    "def prep_data():\n",
    "    # initialize\n",
    "    (X_train, y_train), (X_test, y_test) = mnist.load_data()\n",
    "    X_train = X_train.reshape(60000, 28, 28, 1) / 255.0\n",
    "    X_test = X_test.reshape(10000, 28, 28, 1) / 255.0\n",
    "    y_train = to_categorical(y_train)\n",
    "    y_test = to_categorical(y_test)\n",
    "\n",
    "    X_ekf = X_test[-5000:, ...]\n",
    "    y_ekf = y_test[-5000:, ...]\n",
    "    X_test = X_test[:5000, ...]\n",
    "    y_test = y_test[:5000, ...]\n",
    "\n",
    "    return (X_train, y_train), (X_test, y_test), (X_ekf, y_ekf)"
   ]
  },
  {
   "cell_type": "code",
   "execution_count": 3,
   "metadata": {},
   "outputs": [
    {
     "name": "stderr",
     "output_type": "stream",
     "text": [
      "WARNING: Logging before flag parsing goes to stderr.\n",
      "W0718 10:28:35.360345 140168515065664 deprecation_wrapper.py:119] From /pylon5/as5fp4p/plaplant/anaconda3/envs/ml_cpu/lib/python3.7/site-packages/keras/backend/tensorflow_backend.py:517: The name tf.placeholder is deprecated. Please use tf.compat.v1.placeholder instead.\n",
      "\n",
      "W0718 10:28:35.802485 140168515065664 deprecation_wrapper.py:119] From /pylon5/as5fp4p/plaplant/anaconda3/envs/ml_cpu/lib/python3.7/site-packages/keras/backend/tensorflow_backend.py:4138: The name tf.random_uniform is deprecated. Please use tf.random.uniform instead.\n",
      "\n",
      "W0718 10:28:36.026792 140168515065664 deprecation_wrapper.py:119] From /pylon5/as5fp4p/plaplant/anaconda3/envs/ml_cpu/lib/python3.7/site-packages/keras/backend/tensorflow_backend.py:174: The name tf.get_default_session is deprecated. Please use tf.compat.v1.get_default_session instead.\n",
      "\n",
      "W0718 10:28:36.027982 140168515065664 deprecation_wrapper.py:119] From /pylon5/as5fp4p/plaplant/anaconda3/envs/ml_cpu/lib/python3.7/site-packages/keras/backend/tensorflow_backend.py:181: The name tf.ConfigProto is deprecated. Please use tf.compat.v1.ConfigProto instead.\n",
      "\n",
      "W0718 10:28:36.029036 140168515065664 deprecation_wrapper.py:119] From /pylon5/as5fp4p/plaplant/anaconda3/envs/ml_cpu/lib/python3.7/site-packages/keras/backend/tensorflow_backend.py:186: The name tf.Session is deprecated. Please use tf.compat.v1.Session instead.\n",
      "\n",
      "W0718 10:28:37.821352 140168515065664 deprecation_wrapper.py:119] From /pylon5/as5fp4p/plaplant/anaconda3/envs/ml_cpu/lib/python3.7/site-packages/keras/optimizers.py:790: The name tf.train.Optimizer is deprecated. Please use tf.compat.v1.train.Optimizer instead.\n",
      "\n",
      "W0718 10:28:38.095421 140168515065664 deprecation.py:323] From /pylon5/as5fp4p/plaplant/anaconda3/envs/ml_cpu/lib/python3.7/site-packages/tensorflow/python/ops/math_grad.py:1250: add_dispatch_support.<locals>.wrapper (from tensorflow.python.ops.array_ops) is deprecated and will be removed in a future version.\n",
      "Instructions for updating:\n",
      "Use tf.where in 2.0, which has the same broadcast rule as np.where\n"
     ]
    }
   ],
   "source": [
    "# read in model\n",
    "model = load_model(\"model.h5\")"
   ]
  },
  {
   "cell_type": "code",
   "execution_count": 6,
   "metadata": {},
   "outputs": [
    {
     "name": "stdout",
     "output_type": "stream",
     "text": [
      "['Data']\n",
      "['Q_0', 'Q_1', 'Q_2']\n"
     ]
    }
   ],
   "source": [
    "# read in Q matrices\n",
    "f = h5py.File(\"/home/plaplant/scratch_new_ml/cnn_ekf/Q_matrices.hdf5\", \"r\")\n",
    "print(list(f.keys()))\n",
    "print(list(f[\"Data\"].keys()))"
   ]
  },
  {
   "cell_type": "code",
   "execution_count": null,
   "metadata": {},
   "outputs": [],
   "source": []
  }
 ],
 "metadata": {
  "kernelspec": {
   "display_name": "Python 3",
   "language": "python",
   "name": "python3"
  },
  "language_info": {
   "codemirror_mode": {
    "name": "ipython",
    "version": 3
   },
   "file_extension": ".py",
   "mimetype": "text/x-python",
   "name": "python",
   "nbconvert_exporter": "python",
   "pygments_lexer": "ipython3",
   "version": "3.7.1"
  }
 },
 "nbformat": 4,
 "nbformat_minor": 2
}
