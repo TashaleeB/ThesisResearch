{
 "cells": [
  {
   "cell_type": "code",
   "execution_count": 1,
   "metadata": {},
   "outputs": [],
   "source": [
    "from pyuvdata import UVData\n",
    "import numpy as np\n",
    "import matplotlib.pyplot as plt"
   ]
  },
  {
   "cell_type": "code",
   "execution_count": 38,
   "metadata": {},
   "outputs": [],
   "source": [
    "uvd = UVData()\n",
    "uvd.read(\"/lustre/aoc/projects/hera/zmartino/sim_data/hera19_gsm2008_redux.uvh5\")"
   ]
  },
  {
   "cell_type": "code",
   "execution_count": 39,
   "metadata": {},
   "outputs": [
    {
     "name": "stdout",
     "output_type": "stream",
     "text": [
      "4.62512251778\n"
     ]
    }
   ],
   "source": [
    "gc_lst = (17.+40./60.)/24.*2.*np.pi\n",
    "print gc_lst"
   ]
  },
  {
   "cell_type": "code",
   "execution_count": 40,
   "metadata": {},
   "outputs": [
    {
     "name": "stdout",
     "output_type": "stream",
     "text": [
      "(8052,)\n",
      "(8052,)\n"
     ]
    }
   ],
   "source": [
    "jd_uniq = np.unique(uvd.time_array)\n",
    "lst_uniq = np.unique(uvd.lst_array)\n",
    "print jd_uniq.shape\n",
    "print lst_uniq.shape"
   ]
  },
  {
   "cell_type": "code",
   "execution_count": 41,
   "metadata": {},
   "outputs": [],
   "source": [
    "# nominal reference visibility\n",
    "vis = uvd.select(bls=(1,0),inplace=False)"
   ]
  },
  {
   "cell_type": "code",
   "execution_count": 42,
   "metadata": {},
   "outputs": [
    {
     "name": "stdout",
     "output_type": "stream",
     "text": [
      "4.58148928649\n",
      "4.66875574908\n"
     ]
    }
   ],
   "source": [
    "gc_lst1 = gc_lst - (10./(24.*60))*2.*np.pi\n",
    "gc_lst2 = gc_lst + (10./(24.*60))*2.*np.pi\n",
    "print(gc_lst1)\n",
    "print(gc_lst2)"
   ]
  },
  {
   "cell_type": "code",
   "execution_count": 43,
   "metadata": {},
   "outputs": [
    {
     "name": "stdout",
     "output_type": "stream",
     "text": [
      "112\n"
     ]
    }
   ],
   "source": [
    "whlst = (lst_uniq >= gc_lst1)*(lst_uniq <= gc_lst2)\n",
    "print whlst.sum()"
   ]
  },
  {
   "cell_type": "code",
   "execution_count": 44,
   "metadata": {},
   "outputs": [
    {
     "data": {
      "text/plain": [
       "(array([6111]),)"
      ]
     },
     "execution_count": 44,
     "metadata": {},
     "output_type": "execute_result"
    }
   ],
   "source": [
    "np.where(np.abs(vis.data_array[:,0,128,0]) == np.abs(vis.data_array[:,0,128,0]).max())"
   ]
  },
  {
   "cell_type": "code",
   "execution_count": 47,
   "metadata": {},
   "outputs": [
    {
     "name": "stdout",
     "output_type": "stream",
     "text": [
      "2451545.91797249\n",
      "4.769317379748788\n",
      "18.217450467866538\n",
      "13.02\n"
     ]
    }
   ],
   "source": [
    "print jd_uniq[6111]\n",
    "print lst_uniq[6111]\n",
    "print lst_uniq[6111]/(2.*np.pi)*24.\n",
    "print 0.217*60."
   ]
  },
  {
   "cell_type": "code",
   "execution_count": 48,
   "metadata": {},
   "outputs": [
    {
     "name": "stdout",
     "output_type": "stream",
     "text": [
      "0.0436332312999\n"
     ]
    }
   ],
   "source": [
    "lst_uniq[6111]/(2.*np.pi)*24.\n",
    "print (10./60/24.)*2.*np.pi"
   ]
  },
  {
   "cell_type": "code",
   "execution_count": 49,
   "metadata": {},
   "outputs": [],
   "source": [
    "whpk = (lst_uniq >= lst_uniq[6111]-0.043/2.)*(lst_uniq <= lst_uniq[6111]+0.043/2.)"
   ]
  },
  {
   "cell_type": "code",
   "execution_count": 51,
   "metadata": {
    "scrolled": false
   },
   "outputs": [
    {
     "data": {
      "image/png": "[encoded data removed]",
      "text/plain": [
       "<Figure size 432x288 with 1 Axes>"
      ]
     },
     "metadata": {},
     "output_type": "display_data"
    }
   ],
   "source": [
    "plt.plot(vis.time_array-int(vis.time_array[0]),np.abs(vis.data_array[:,0,128,0]))\n",
    "plt.plot(vis.time_array[whlst]-int(vis.time_array[0]),np.abs(vis.data_array[whlst,0,128,0]),color='green')\n",
    "plt.plot(vis.time_array[whpk]-int(vis.time_array[0]),np.abs(vis.data_array[whpk,0,128,0]),color='orange')\n",
    "plt.show()"
   ]
  },
  {
   "cell_type": "code",
   "execution_count": 52,
   "metadata": {},
   "outputs": [],
   "source": [
    "gc = uvd.select(times=jd_uniq[whpk],inplace=False)"
   ]
  },
  {
   "cell_type": "code",
   "execution_count": 53,
   "metadata": {},
   "outputs": [],
   "source": [
    "gc_vis = gc.select(bls=(1,0),inplace=False)"
   ]
  },
  {
   "cell_type": "code",
   "execution_count": 37,
   "metadata": {},
   "outputs": [
    {
     "data": {
      "text/plain": [
       "(1705, 1, 256, 4)"
      ]
     },
     "execution_count": 37,
     "metadata": {},
     "output_type": "execute_result"
    }
   ],
   "source": [
    "plt.plot"
   ]
  },
  {
   "cell_type": "code",
   "execution_count": 54,
   "metadata": {},
   "outputs": [
    {
     "data": {
      "text/plain": [
       "2451545.161102779"
      ]
     },
     "execution_count": 54,
     "metadata": {},
     "output_type": "execute_result"
    }
   ],
   "source": [
    "jd_uniq[0]"
   ]
  },
  {
   "cell_type": "code",
   "execution_count": 55,
   "metadata": {},
   "outputs": [
    {
     "data": {
      "text/plain": [
       "0.0007444217123208835"
      ]
     },
     "execution_count": 55,
     "metadata": {},
     "output_type": "execute_result"
    }
   ],
   "source": [
    "lst_uniq[0]"
   ]
  },
  {
   "cell_type": "code",
   "execution_count": 57,
   "metadata": {},
   "outputs": [
    {
     "data": {
      "image/png": "[encoded data removed]",
      "text/plain": [
       "<Figure size 432x288 with 1 Axes>"
      ]
     },
     "metadata": {},
     "output_type": "display_data"
    }
   ],
   "source": [
    "lst_hr = lst_uniq*24./(2.*np.pi)\n",
    "plt.plot(lst_hr,np.abs(vis.data_array[:,0,128,0]))\n",
    "plt.plot(lst_hr[whlst],np.abs(vis.data_array[whlst,0,128,0]),color='green')\n",
    "plt.plot(lst_hr[whpk],np.abs(vis.data_array[whpk,0,128,0]),color='orange')\n",
    "plt.show()"
   ]
  },
  {
   "cell_type": "code",
   "execution_count": 59,
   "metadata": {},
   "outputs": [
    {
     "data": {
      "image/png": "[encoded data removed]",
      "text/plain": [
       "<Figure size 432x288 with 1 Axes>"
      ]
     },
     "metadata": {},
     "output_type": "display_data"
    }
   ],
   "source": [
    "plt.plot(gc_vis.lst_array,np.abs(gc_vis.data_array[:,0,128,0]))\n",
    "plt.show()"
   ]
  },
  {
   "cell_type": "code",
   "execution_count": 60,
   "metadata": {},
   "outputs": [
    {
     "data": {
      "text/plain": [
       "0.03333333333333333"
      ]
     },
     "execution_count": 60,
     "metadata": {},
     "output_type": "execute_result"
    }
   ],
   "source": [
    "100./3000."
   ]
  },
  {
   "cell_type": "code",
   "execution_count": null,
   "metadata": {},
   "outputs": [],
   "source": []
  }
 ],
 "metadata": {
  "kernelspec": {
   "display_name": "Python 2",
   "language": "python",
   "name": "python2"
  },
  "language_info": {
   "codemirror_mode": {
    "name": "ipython",
    "version": 2
   },
   "file_extension": ".py",
   "mimetype": "text/x-python",
   "name": "python",
   "nbconvert_exporter": "python",
   "pygments_lexer": "ipython2",
   "version": "2.7.15"
  }
 },
 "nbformat": 4,
 "nbformat_minor": 2
}
