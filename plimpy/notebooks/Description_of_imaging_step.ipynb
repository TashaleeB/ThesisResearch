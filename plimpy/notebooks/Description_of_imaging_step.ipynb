{
 "cells": [
  {
   "cell_type": "markdown",
   "metadata": {},
   "source": [
    "# Summary of CLEAN Task\n",
    "\n",
    "The script for the imaging part of the pipeline is located https://github.com/HERA-Team/casa_imaging/blob/master/scripts/opm_imaging.py\n",
    "\n",
    "**CLEAN** will be depricated soon so you'll have to use **TCLEAN** (there are some minor difference in the naming of the parameters but they are essentially the same.)\n",
    "\n",
    "After you convert the uvfits file to a Measurement Set file you run the **CLEAN** task."
   ]
  },
  {
   "cell_type": "code",
   "execution_count": null,
   "metadata": {},
   "outputs": [],
   "source": [
    "# Make Stokes IQUV image\n",
    "clean(vis=msname, \n",
    "      imagename=image, \n",
    "      niter=0,\n",
    "      weighting=\"briggs\", robust=0, # robust is a sub-parameter of weighting\n",
    "      imsize=[512, 512], # size of the image. This image has 512*512 cells\n",
    "      cell=[\"500 arcsec\"], # each cell is 500 arcsec in side\n",
    "      mode=\"mfs\", \n",
    "      nterms=1,\n",
    "      spw=\"0:150~900\", #window: start channel- last channel\n",
    "      stokes=\"IQUV\")\n",
    "\n",
    "vispolimname = imageroot + \".vispol\" # new name for the new type of image\n",
    "# Make Stokes XXYY image\n",
    "clean(vis=msname, \n",
    "      imagename=vispolimname, \n",
    "      niter=0, \n",
    "      weighting=\"briggs\", robust=0,\n",
    "      imsize=[512, 512], \n",
    "      cell=[\"500 arcsec\"], \n",
    "      mode=\"mfs\", \n",
    "      nterms=1,\n",
    "      spw=\"0:150~900\", \n",
    "      stokes=\"XXYY\")"
   ]
  },
  {
   "cell_type": "markdown",
   "metadata": {},
   "source": [
    "## Breakdown of CASA parameters\n",
    "\n",
    "As you can see the **CLEAN** is ran twice. Both will produce Multifrequency Synthesis Images, one with IQUV and the other XXYY. There are aslo a number of other parameters that are available but are not explicitly specified. This means that those parameters are set to their default settings. For more details you can either start CASA and type \"clean?\" or you can visit the website https://casa.nrao.edu/casadocs-devel/stable/global-task-list/task_clean/parameters.\n",
    "\n",
    "**CLEAN** WILL NOT generate an image if the imagename == msname. It needs to be different.\n",
    "\n",
    "*__vis__* is the name of the visibility file (.MS or .ms)\n",
    "\n",
    "*__imagename__* is the name of the output image files\n",
    "    .image (syntehsised image), \n",
    "    .flux (sky sensitivity/image includes this convolution kernel in its effective weighted response pattern), \n",
    "    .psf (dirty beam/point spread function/synthesized beam), \n",
    "    .model (CLEAN componets), \n",
    "    .residual (data - model.)\n",
    "    \n",
    "*__niter__* tells you to either not deconvolve the image (= 0) or it tells you the number of iterations used. This needs to be specified because the default is 500.\n",
    "\n",
    "*__mode__* is a commonly used parameter. When set to \"mfs\" you get the multifrequency synthesis image (you get an image at the average frequaency value. For example if your data is from 100-200MHz \"mfs\" mode will give you an image at 150MHz. This mode can be set to something else like \"frequency\" and then more subparameters become avaliable.) \n",
    "\n",
    "*__spw__* is the spectral window to clean. HERA only has 1 spectral window but if it did have multiple you can choose. Then within each window there are a certain number of channels. You can select the channel range you want. We know that they High and low band are no good to us so we exclude them. We pick window 0 and the channel range 150~900.\n",
    "\n",
    "*__stokes__* is another commonly used parameter. The default is \"I\", the intensity, but you can change this to look at the linear components or circular component and so much more."
   ]
  },
  {
   "cell_type": "code",
   "execution_count": null,
   "metadata": {},
   "outputs": [],
   "source": []
  }
 ],
 "metadata": {
  "kernelspec": {
   "display_name": "Python 2",
   "language": "python",
   "name": "python2"
  },
  "language_info": {
   "codemirror_mode": {
    "name": "ipython",
    "version": 2
   },
   "file_extension": ".py",
   "mimetype": "text/x-python",
   "name": "python",
   "nbconvert_exporter": "python",
   "pygments_lexer": "ipython2",
   "version": "2.7.15"
  }
 },
 "nbformat": 4,
 "nbformat_minor": 2
}
